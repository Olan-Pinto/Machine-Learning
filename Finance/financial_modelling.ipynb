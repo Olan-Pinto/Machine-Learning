{
 "cells": [
  {
   "cell_type": "code",
   "execution_count": 11,
   "id": "48518997",
   "metadata": {},
   "outputs": [],
   "source": [
    "import pandas as pd\n",
    "import numpy as np"
   ]
  },
  {
   "cell_type": "code",
   "execution_count": 8,
   "id": "491c2f55",
   "metadata": {},
   "outputs": [
    {
     "name": "stdout",
     "output_type": "stream",
     "text": [
      "Defaulting to user installation because normal site-packages is not writeable\n",
      "Collecting numpy_financial\n",
      "  Downloading numpy_financial-1.0.0-py3-none-any.whl (14 kB)\n",
      "Requirement already satisfied: numpy>=1.15 in c:\\programdata\\anaconda3\\lib\\site-packages (from numpy_financial) (1.23.5)\n",
      "Installing collected packages: numpy_financial\n",
      "Successfully installed numpy_financial-1.0.0\n"
     ]
    }
   ],
   "source": [
    "# !pip3 install numpy_financial"
   ]
  },
  {
   "cell_type": "code",
   "execution_count": 15,
   "id": "d07a928a",
   "metadata": {},
   "outputs": [],
   "source": [
    "# Inputs\n",
    "salary = 40000\n",
    "savings_rate = 0.25\n",
    "investment_rate = 0.05\n",
    "desired_cash = 1500000"
   ]
  },
  {
   "cell_type": "markdown",
   "id": "bbe072ef",
   "metadata": {},
   "source": [
    "### Determining Cash Saved"
   ]
  },
  {
   "cell_type": "code",
   "execution_count": 16,
   "id": "c442fe85",
   "metadata": {},
   "outputs": [
    {
     "data": {
      "text/plain": [
       "10000.0"
      ]
     },
     "execution_count": 16,
     "metadata": {},
     "output_type": "execute_result"
    }
   ],
   "source": [
    "annual_cash = salary * savings_rate\n",
    "annual_cash"
   ]
  },
  {
   "cell_type": "markdown",
   "id": "25abe431",
   "metadata": {},
   "source": [
    "### Years to Retirement"
   ]
  },
  {
   "cell_type": "code",
   "execution_count": 9,
   "id": "e1e3cd39",
   "metadata": {},
   "outputs": [],
   "source": [
    "import numpy_financial as npf"
   ]
  },
  {
   "cell_type": "code",
   "execution_count": 17,
   "id": "c094411c",
   "metadata": {},
   "outputs": [
    {
     "name": "stdout",
     "output_type": "stream",
     "text": [
      "43.86265551524958\n"
     ]
    }
   ],
   "source": [
    "\"\"\"\n",
    "# Trying to calculate when a person can retire based on their investment rate, payment amount, present value and final value\n",
    "rate -> investment rate\n",
    "pmt -> payment (add a negative sign)\n",
    "pv => present value\n",
    "fv -> final value\n",
    "\"\"\"\n",
    "nper=npf.nper(rate=investment_rate,pmt=-annual_cash,pv=0,fv=desired_cash)\n",
    "print(nper)"
   ]
  },
  {
   "cell_type": "markdown",
   "id": "98ee863d",
   "metadata": {},
   "source": [
    "### Multiple Investment Rates"
   ]
  },
  {
   "cell_type": "code",
   "execution_count": 18,
   "id": "1f61b655",
   "metadata": {},
   "outputs": [],
   "source": [
    "investment_rates=[0.05,0.06,0.07]"
   ]
  },
  {
   "cell_type": "code",
   "execution_count": 21,
   "id": "6190f3d7",
   "metadata": {},
   "outputs": [
    {
     "name": "stdout",
     "output_type": "stream",
     "text": [
      "With an investment rate of 5.0 % you can retire at the age of 44.0\n",
      "With an investment rate of 6.0 % you can retire at the age of 40.0\n",
      "With an investment rate of 7.0 % you can retire at the age of 36.0\n"
     ]
    }
   ],
   "source": [
    "for rate in investment_rates:\n",
    "    retirement_age=npf.nper(rate=rate,pmt=-annual_cash,pv=0,fv=desired_cash)\n",
    "    print(\"With an investment rate of\",np.round(rate*100,0),\"% you can retire at the age of\",np.round(retirement_age,0))"
   ]
  },
  {
   "cell_type": "code",
   "execution_count": 30,
   "id": "2ac5903c",
   "metadata": {},
   "outputs": [
    {
     "name": "stdout",
     "output_type": "stream",
     "text": [
      "Savings rate 10.0%\n",
      "With an investment rate of 4.0 % you can retire at the age of 71.0\n",
      "With an investment rate of 5.0 % you can retire at the age of 61.0\n",
      "With an investment rate of 6.0 % you can retire at the age of 54.0\n",
      "Savings rate 25.0%\n",
      "With an investment rate of 4.0 % you can retire at the age of 50.0\n",
      "With an investment rate of 5.0 % you can retire at the age of 44.0\n",
      "With an investment rate of 6.0 % you can retire at the age of 40.0\n",
      "Savings rate 40.0%\n",
      "With an investment rate of 4.0 % you can retire at the age of 40.0\n",
      "With an investment rate of 5.0 % you can retire at the age of 36.0\n",
      "With an investment rate of 6.0 % you can retire at the age of 32.0\n"
     ]
    }
   ],
   "source": [
    "savings_rate=[0.1,0.25,0.4]\n",
    "investment_rate=[0.04,0.05,0.06]\n",
    "salary = 40000\n",
    "desired_cash = 1500000\n",
    "for sr in savings_rate:\n",
    "    print(f'Savings rate {sr* 100:.1f}%')\n",
    "    for ir in investment_rate:\n",
    "        annual_cash = salary * sr\n",
    "        retirement_age=npf.nper(rate=ir,pmt=-annual_cash,pv=0,fv=desired_cash)\n",
    "        print(\"With an investment rate of\",np.round(ir*100,0),\"% you can retire at the age of\",np.round(retirement_age,0))"
   ]
  },
  {
   "cell_type": "markdown",
   "id": "e9254779",
   "metadata": {},
   "source": [
    "### Dynamic Salary Model"
   ]
  },
  {
   "cell_type": "code",
   "execution_count": 32,
   "id": "060f3054",
   "metadata": {},
   "outputs": [],
   "source": [
    "# inputs\n",
    "starting_salary= 60000\n",
    "promotion_cycle = 5 #every how many years do you estimate your promotion\n",
    "cost_of_living_rate = 2 #inflation rate (percentage)\n",
    "promotion_rate = 15 #percentage\n",
    "\n",
    "savings_rate = 25 #percentage\n",
    "interest_on_investment = 5 #percentage\n",
    "\n",
    "desired_cash = 1500000"
   ]
  },
  {
   "cell_type": "code",
   "execution_count": 33,
   "id": "64511ce3",
   "metadata": {},
   "outputs": [],
   "source": [
    "# output\n",
    "years_till_retirement = 0"
   ]
  },
  {
   "cell_type": "raw",
   "id": "cbc0265d",
   "metadata": {},
   "source": [
    "salary_at_t=sal_at_t0 * (1+cost_of_living_rate)**num_of_years * (1+promotion_precentage)**num_of_promotions\n",
    "wealth_saved_at_t=salary_at_t * (1+ interest_on_investment) + salary_at_t*savings_rate"
   ]
  },
  {
   "cell_type": "code",
   "execution_count": 34,
   "id": "e39f8907",
   "metadata": {},
   "outputs": [
    {
     "name": "stdout",
     "output_type": "stream",
     "text": [
      "you can retire at the age of 28\n"
     ]
    }
   ],
   "source": [
    "# salary calculation year on year - randomly checking for the next 50 years\n",
    "promotion_count=0  #keeps a track of how many promotions you have had so far\n",
    "for num_years in range(1,510):\n",
    "    if(num_years%promotion_cycle==0): #is a promotion year\n",
    "        promotion_count+=1\n",
    "    salary_at_t=starting_salary*((1+cost_of_living_rate/100)**num_years)*((1+promotion_rate/100)**promotion_count)\n",
    "    if num_years==1:\n",
    "        wealth_saved_at_t=salary_at_t*(savings_rate/100)\n",
    "        current_wealth=wealth_saved_at_t #wealth at t needs the wealth at t-1\n",
    "    else:\n",
    "        wealth_saved_at_t=current_wealth*(1+interest_on_investment/100) + salary_at_t*(savings_rate/100)\n",
    "        current_wealth=wealth_saved_at_t\n",
    "    if(wealth_saved_at_t>=desired_cash):\n",
    "        print(f'you can retire at the age of {num_years}')\n",
    "        break\n",
    "        \n",
    "#     print(f'Predicted Salary at year {num_years} is {np.round(salary_at_t,0).astype(int)}')\n",
    "    "
   ]
  },
  {
   "cell_type": "code",
   "execution_count": null,
   "id": "00f5f95d",
   "metadata": {},
   "outputs": [],
   "source": []
  },
  {
   "cell_type": "code",
   "execution_count": null,
   "id": "02c4eb53",
   "metadata": {},
   "outputs": [],
   "source": []
  },
  {
   "cell_type": "code",
   "execution_count": null,
   "id": "b61f603b",
   "metadata": {},
   "outputs": [],
   "source": []
  }
 ],
 "metadata": {
  "kernelspec": {
   "display_name": "Python 3 (ipykernel)",
   "language": "python",
   "name": "python3"
  },
  "language_info": {
   "codemirror_mode": {
    "name": "ipython",
    "version": 3
   },
   "file_extension": ".py",
   "mimetype": "text/x-python",
   "name": "python",
   "nbconvert_exporter": "python",
   "pygments_lexer": "ipython3",
   "version": "3.10.9"
  }
 },
 "nbformat": 4,
 "nbformat_minor": 5
}
