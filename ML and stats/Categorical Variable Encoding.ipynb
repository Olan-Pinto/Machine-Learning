{
 "cells": [
  {
   "cell_type": "code",
   "execution_count": 3,
   "id": "e60d1597",
   "metadata": {},
   "outputs": [
    {
     "data": {
      "text/plain": [
       "'C:\\\\Users\\\\Olan'"
      ]
     },
     "execution_count": 3,
     "metadata": {},
     "output_type": "execute_result"
    }
   ],
   "source": [
    "import os\n",
    "os.getcwd()"
   ]
  },
  {
   "cell_type": "code",
   "execution_count": 4,
   "id": "b2f1db05",
   "metadata": {},
   "outputs": [
    {
     "data": {
      "text/plain": [
       "'C:\\\\Olan Backup\\\\ML\\\\ML topics'"
      ]
     },
     "execution_count": 4,
     "metadata": {},
     "output_type": "execute_result"
    }
   ],
   "source": [
    "os.chdir('C:\\Olan Backup\\ML\\ML topics')\n",
    "os.getcwd()"
   ]
  },
  {
   "cell_type": "code",
   "execution_count": 26,
   "id": "3d7fb014",
   "metadata": {},
   "outputs": [
    {
     "data": {
      "text/html": [
       "<div>\n",
       "<style scoped>\n",
       "    .dataframe tbody tr th:only-of-type {\n",
       "        vertical-align: middle;\n",
       "    }\n",
       "\n",
       "    .dataframe tbody tr th {\n",
       "        vertical-align: top;\n",
       "    }\n",
       "\n",
       "    .dataframe thead th {\n",
       "        text-align: right;\n",
       "    }\n",
       "</style>\n",
       "<table border=\"1\" class=\"dataframe\">\n",
       "  <thead>\n",
       "    <tr style=\"text-align: right;\">\n",
       "      <th></th>\n",
       "      <th>age</th>\n",
       "      <th>gender</th>\n",
       "      <th>fever</th>\n",
       "      <th>cough</th>\n",
       "      <th>city</th>\n",
       "      <th>has_covid</th>\n",
       "    </tr>\n",
       "  </thead>\n",
       "  <tbody>\n",
       "    <tr>\n",
       "      <th>0</th>\n",
       "      <td>60</td>\n",
       "      <td>Male</td>\n",
       "      <td>103.0</td>\n",
       "      <td>Mild</td>\n",
       "      <td>Kolkata</td>\n",
       "      <td>No</td>\n",
       "    </tr>\n",
       "    <tr>\n",
       "      <th>1</th>\n",
       "      <td>27</td>\n",
       "      <td>Male</td>\n",
       "      <td>100.0</td>\n",
       "      <td>Mild</td>\n",
       "      <td>Delhi</td>\n",
       "      <td>Yes</td>\n",
       "    </tr>\n",
       "    <tr>\n",
       "      <th>2</th>\n",
       "      <td>42</td>\n",
       "      <td>Male</td>\n",
       "      <td>101.0</td>\n",
       "      <td>Mild</td>\n",
       "      <td>Delhi</td>\n",
       "      <td>No</td>\n",
       "    </tr>\n",
       "    <tr>\n",
       "      <th>3</th>\n",
       "      <td>31</td>\n",
       "      <td>Female</td>\n",
       "      <td>98.0</td>\n",
       "      <td>Mild</td>\n",
       "      <td>Kolkata</td>\n",
       "      <td>No</td>\n",
       "    </tr>\n",
       "    <tr>\n",
       "      <th>4</th>\n",
       "      <td>65</td>\n",
       "      <td>Female</td>\n",
       "      <td>101.0</td>\n",
       "      <td>Mild</td>\n",
       "      <td>Mumbai</td>\n",
       "      <td>No</td>\n",
       "    </tr>\n",
       "  </tbody>\n",
       "</table>\n",
       "</div>"
      ],
      "text/plain": [
       "   age  gender  fever cough     city has_covid\n",
       "0   60    Male  103.0  Mild  Kolkata        No\n",
       "1   27    Male  100.0  Mild    Delhi       Yes\n",
       "2   42    Male  101.0  Mild    Delhi        No\n",
       "3   31  Female   98.0  Mild  Kolkata        No\n",
       "4   65  Female  101.0  Mild   Mumbai        No"
      ]
     },
     "execution_count": 26,
     "metadata": {},
     "output_type": "execute_result"
    }
   ],
   "source": [
    "import pandas as pd\n",
    "df=pd.read_csv(\"covid_toy.csv\")\n",
    "df.head()"
   ]
  },
  {
   "cell_type": "code",
   "execution_count": 7,
   "id": "77c191ab",
   "metadata": {},
   "outputs": [
    {
     "data": {
      "text/plain": [
       "age           0\n",
       "gender        0\n",
       "fever        10\n",
       "cough         0\n",
       "city          0\n",
       "has_covid     0\n",
       "dtype: int64"
      ]
     },
     "execution_count": 7,
     "metadata": {},
     "output_type": "execute_result"
    }
   ],
   "source": [
    "df.isnull().sum()"
   ]
  },
  {
   "cell_type": "code",
   "execution_count": 8,
   "id": "b67e5c3c",
   "metadata": {},
   "outputs": [
    {
     "data": {
      "text/plain": [
       "Female    59\n",
       "Male      41\n",
       "Name: gender, dtype: int64"
      ]
     },
     "execution_count": 8,
     "metadata": {},
     "output_type": "execute_result"
    }
   ],
   "source": [
    "df['gender'].value_counts()"
   ]
  },
  {
   "cell_type": "code",
   "execution_count": 9,
   "id": "6bc0daec",
   "metadata": {},
   "outputs": [
    {
     "data": {
      "text/plain": [
       "Mild      62\n",
       "Strong    38\n",
       "Name: cough, dtype: int64"
      ]
     },
     "execution_count": 9,
     "metadata": {},
     "output_type": "execute_result"
    }
   ],
   "source": [
    "df['cough'].value_counts()"
   ]
  },
  {
   "cell_type": "code",
   "execution_count": 10,
   "id": "be226f40",
   "metadata": {},
   "outputs": [
    {
     "data": {
      "text/plain": [
       "Kolkata      32\n",
       "Bangalore    30\n",
       "Delhi        22\n",
       "Mumbai       16\n",
       "Name: city, dtype: int64"
      ]
     },
     "execution_count": 10,
     "metadata": {},
     "output_type": "execute_result"
    }
   ],
   "source": [
    "df['city'].value_counts()"
   ]
  },
  {
   "cell_type": "code",
   "execution_count": 11,
   "id": "d0e733e5",
   "metadata": {},
   "outputs": [],
   "source": [
    "# missing value imputation for 'fever'\n",
    "# gender,city - one hot encoding\n",
    "# cough - ordinal encoer"
   ]
  },
  {
   "cell_type": "code",
   "execution_count": 39,
   "id": "17966aa5",
   "metadata": {},
   "outputs": [],
   "source": [
    "from sklearn.impute import SimpleImputer\n",
    "from sklearn.preprocessing import OrdinalEncoder, OneHotEncoder\n",
    "from sklearn.compose import ColumnTransformer\n",
    "import numpy as np"
   ]
  },
  {
   "cell_type": "code",
   "execution_count": 49,
   "id": "23eb6a49",
   "metadata": {},
   "outputs": [],
   "source": [
    "transformer=ColumnTransformer(transformers=[\n",
    "    ('col_trans_1',SimpleImputer(),['fever']),\n",
    "    ('col_trans_2',OrdinalEncoder(categories=[['Mild','Strong']],dtype=np.int32),['cough']),\n",
    "    ('col_trans_3',OneHotEncoder(sparse_output=False,drop='first',dtype=np.int32),['gender','city'])\n",
    "],remainder='passthrough')"
   ]
  },
  {
   "cell_type": "code",
   "execution_count": 50,
   "id": "0c0eaa53",
   "metadata": {},
   "outputs": [],
   "source": [
    "from sklearn.model_selection import train_test_split\n",
    "X_train, X_test, y_train, y_test = train_test_split(df.iloc[:, 0:5], df.iloc[:,-1], random_state=42, test_size=0.2)"
   ]
  },
  {
   "cell_type": "code",
   "execution_count": 51,
   "id": "e94d19a4",
   "metadata": {},
   "outputs": [
    {
     "data": {
      "text/plain": [
       "array([[101.,   0.,   0.,   0.,   0.,   1.,  81.],\n",
       "       [100.,   0.,   0.,   0.,   1.,   0.,   5.],\n",
       "       [100.,   0.,   0.,   0.,   1.,   0.,  19.],\n",
       "       [100.,   0.,   1.,   1.,   0.,   0.,  27.],\n",
       "       [103.,   0.,   0.,   1.,   0.,   0.,  73.],\n",
       "       [103.,   1.,   1.,   0.,   1.,   0.,  70.],\n",
       "       [102.,   0.,   0.,   1.,   0.,   0.,  49.],\n",
       "       [101.,   1.,   0.,   0.,   1.,   0.,  51.],\n",
       "       [101.,   0.,   0.,   1.,   0.,   0.,  64.],\n",
       "       [101.,   0.,   0.,   0.,   1.,   0.,  83.],\n",
       "       [ 98.,   0.,   0.,   0.,   0.,   1.,  65.],\n",
       "       [104.,   0.,   0.,   0.,   0.,   0.,  18.],\n",
       "       [103.,   0.,   0.,   0.,   0.,   0.,  16.],\n",
       "       [104.,   0.,   1.,   0.,   1.,   0.,  16.],\n",
       "       [100.,   0.,   1.,   0.,   1.,   0.,  27.],\n",
       "       [101.,   0.,   0.,   0.,   0.,   0.,  84.],\n",
       "       [104.,   0.,   1.,   0.,   1.,   0.,  51.],\n",
       "       [102.,   0.,   0.,   0.,   0.,   0.,  69.],\n",
       "       [102.,   1.,   0.,   0.,   0.,   0.,  82.],\n",
       "       [103.,   0.,   0.,   0.,   1.,   0.,  69.],\n",
       "       [104.,   0.,   1.,   0.,   0.,   1.,  44.],\n",
       "       [102.,   0.,   1.,   0.,   0.,   1.,  74.],\n",
       "       [101.,   1.,   0.,   0.,   0.,   1.,  20.],\n",
       "       [104.,   0.,   0.,   0.,   0.,   0.,  12.],\n",
       "       [102.,   1.,   0.,   1.,   0.,   0.,  33.],\n",
       "       [101.,   1.,   0.,   0.,   0.,   0.,  42.],\n",
       "       [ 99.,   0.,   1.,   1.,   0.,   0.,  65.],\n",
       "       [101.,   0.,   1.,   0.,   0.,   1.,  23.],\n",
       "       [104.,   1.,   0.,   0.,   0.,   0.,  56.],\n",
       "       [102.,   0.,   1.,   0.,   0.,   0.,  64.],\n",
       "       [100.,   1.,   0.,   0.,   1.,   0.,  13.],\n",
       "       [ 98.,   0.,   0.,   0.,   1.,   0.,  31.],\n",
       "       [ 98.,   1.,   0.,   1.,   0.,   0.,  40.],\n",
       "       [101.,   0.,   0.,   1.,   0.,   0.,  49.],\n",
       "       [100.,   1.,   0.,   0.,   0.,   0.,  19.],\n",
       "       [100.,   0.,   1.,   0.,   0.,   0.,  11.],\n",
       "       [101.,   1.,   1.,   0.,   0.,   0.,  14.],\n",
       "       [104.,   0.,   1.,   0.,   0.,   1.,  42.],\n",
       "       [101.,   0.,   0.,   0.,   0.,   0.,  38.],\n",
       "       [103.,   1.,   1.,   0.,   0.,   0.,  46.],\n",
       "       [101.,   1.,   1.,   0.,   1.,   0.,  71.],\n",
       "       [ 98.,   1.,   0.,   0.,   1.,   0.,  10.],\n",
       "       [ 99.,   0.,   0.,   0.,   0.,   1.,  60.],\n",
       "       [ 99.,   0.,   0.,   0.,   0.,   0.,  22.],\n",
       "       [101.,   0.,   1.,   1.,   0.,   0.,  19.],\n",
       "       [ 99.,   0.,   1.,   0.,   0.,   0.,  65.],\n",
       "       [101.,   0.,   0.,   0.,   0.,   1.,  19.],\n",
       "       [104.,   1.,   0.,   0.,   1.,   0.,  54.],\n",
       "       [ 98.,   1.,   0.,   0.,   0.,   1.,  81.],\n",
       "       [101.,   0.,   0.,   0.,   0.,   0.,  20.],\n",
       "       [103.,   0.,   0.,   0.,   1.,   0.,  48.],\n",
       "       [101.,   0.,   1.,   0.,   1.,   0.,  82.],\n",
       "       [ 98.,   1.,   1.,   0.,   0.,   1.,  23.],\n",
       "       [ 99.,   1.,   1.,   0.,   0.,   0.,  66.],\n",
       "       [ 98.,   1.,   0.,   0.,   0.,   1.,   5.],\n",
       "       [ 99.,   1.,   0.,   0.,   0.,   0.,  49.],\n",
       "       [102.,   0.,   1.,   0.,   1.,   0.,   5.],\n",
       "       [101.,   1.,   0.,   1.,   0.,   0.,  34.],\n",
       "       [101.,   1.,   1.,   0.,   1.,   0.,  79.],\n",
       "       [104.,   0.,   0.,   0.,   1.,   0.,   6.],\n",
       "       [100.,   0.,   1.,   0.,   0.,   0.,  10.],\n",
       "       [ 98.,   1.,   0.,   0.,   0.,   1.,  69.],\n",
       "       [100.,   0.,   1.,   0.,   1.,   0.,  55.],\n",
       "       [101.,   1.,   0.,   0.,   0.,   1.,  34.],\n",
       "       [100.,   0.,   1.,   1.,   0.,   0.,  27.],\n",
       "       [100.,   1.,   0.,   0.,   0.,   0.,  47.],\n",
       "       [ 98.,   0.,   1.,   0.,   0.,   0.,  73.],\n",
       "       [101.,   0.,   1.,   1.,   0.,   0.,  42.],\n",
       "       [ 98.,   0.,   0.,   1.,   0.,   0.,  80.],\n",
       "       [101.,   1.,   1.,   0.,   0.,   0.,  47.],\n",
       "       [101.,   0.,   1.,   1.,   0.,   0.,  38.],\n",
       "       [104.,   1.,   0.,   1.,   0.,   0.,  34.],\n",
       "       [104.,   0.,   1.,   0.,   0.,   0.,  25.],\n",
       "       [ 98.,   0.,   1.,   0.,   1.,   0.,  24.],\n",
       "       [ 98.,   1.,   1.,   0.,   0.,   0.,  12.],\n",
       "       [102.,   1.,   0.,   0.,   0.,   0.,  24.],\n",
       "       [104.,   1.,   0.,   1.,   0.,   0.,  75.],\n",
       "       [104.,   0.,   1.,   0.,   0.,   0.,  51.],\n",
       "       [102.,   1.,   0.,   0.,   1.,   0.,  82.],\n",
       "       [100.,   1.,   0.,   0.,   1.,   0.,  11.]])"
      ]
     },
     "execution_count": 51,
     "metadata": {},
     "output_type": "execute_result"
    }
   ],
   "source": [
    "transformer.fit_transform(X_train)"
   ]
  },
  {
   "cell_type": "code",
   "execution_count": 44,
   "id": "4983e411",
   "metadata": {},
   "outputs": [
    {
     "data": {
      "text/plain": [
       "(20, 7)"
      ]
     },
     "execution_count": 44,
     "metadata": {},
     "output_type": "execute_result"
    }
   ],
   "source": [
    "transformer.transform(X_test).shape"
   ]
  },
  {
   "cell_type": "code",
   "execution_count": 45,
   "id": "c3a78647",
   "metadata": {},
   "outputs": [
    {
     "data": {
      "text/html": [
       "<div>\n",
       "<style scoped>\n",
       "    .dataframe tbody tr th:only-of-type {\n",
       "        vertical-align: middle;\n",
       "    }\n",
       "\n",
       "    .dataframe tbody tr th {\n",
       "        vertical-align: top;\n",
       "    }\n",
       "\n",
       "    .dataframe thead th {\n",
       "        text-align: right;\n",
       "    }\n",
       "</style>\n",
       "<table border=\"1\" class=\"dataframe\">\n",
       "  <thead>\n",
       "    <tr style=\"text-align: right;\">\n",
       "      <th></th>\n",
       "      <th>age</th>\n",
       "      <th>gender</th>\n",
       "      <th>fever</th>\n",
       "      <th>cough</th>\n",
       "      <th>city</th>\n",
       "    </tr>\n",
       "  </thead>\n",
       "  <tbody>\n",
       "    <tr>\n",
       "      <th>55</th>\n",
       "      <td>81</td>\n",
       "      <td>Female</td>\n",
       "      <td>101.0</td>\n",
       "      <td>Mild</td>\n",
       "      <td>Mumbai</td>\n",
       "    </tr>\n",
       "    <tr>\n",
       "      <th>88</th>\n",
       "      <td>5</td>\n",
       "      <td>Female</td>\n",
       "      <td>100.0</td>\n",
       "      <td>Mild</td>\n",
       "      <td>Kolkata</td>\n",
       "    </tr>\n",
       "    <tr>\n",
       "      <th>26</th>\n",
       "      <td>19</td>\n",
       "      <td>Female</td>\n",
       "      <td>100.0</td>\n",
       "      <td>Mild</td>\n",
       "      <td>Kolkata</td>\n",
       "    </tr>\n",
       "    <tr>\n",
       "      <th>42</th>\n",
       "      <td>27</td>\n",
       "      <td>Male</td>\n",
       "      <td>100.0</td>\n",
       "      <td>Mild</td>\n",
       "      <td>Delhi</td>\n",
       "    </tr>\n",
       "    <tr>\n",
       "      <th>69</th>\n",
       "      <td>73</td>\n",
       "      <td>Female</td>\n",
       "      <td>103.0</td>\n",
       "      <td>Mild</td>\n",
       "      <td>Delhi</td>\n",
       "    </tr>\n",
       "    <tr>\n",
       "      <th>...</th>\n",
       "      <td>...</td>\n",
       "      <td>...</td>\n",
       "      <td>...</td>\n",
       "      <td>...</td>\n",
       "      <td>...</td>\n",
       "    </tr>\n",
       "    <tr>\n",
       "      <th>60</th>\n",
       "      <td>24</td>\n",
       "      <td>Female</td>\n",
       "      <td>102.0</td>\n",
       "      <td>Strong</td>\n",
       "      <td>Bangalore</td>\n",
       "    </tr>\n",
       "    <tr>\n",
       "      <th>71</th>\n",
       "      <td>75</td>\n",
       "      <td>Female</td>\n",
       "      <td>104.0</td>\n",
       "      <td>Strong</td>\n",
       "      <td>Delhi</td>\n",
       "    </tr>\n",
       "    <tr>\n",
       "      <th>14</th>\n",
       "      <td>51</td>\n",
       "      <td>Male</td>\n",
       "      <td>104.0</td>\n",
       "      <td>Mild</td>\n",
       "      <td>Bangalore</td>\n",
       "    </tr>\n",
       "    <tr>\n",
       "      <th>92</th>\n",
       "      <td>82</td>\n",
       "      <td>Female</td>\n",
       "      <td>102.0</td>\n",
       "      <td>Strong</td>\n",
       "      <td>Kolkata</td>\n",
       "    </tr>\n",
       "    <tr>\n",
       "      <th>51</th>\n",
       "      <td>11</td>\n",
       "      <td>Female</td>\n",
       "      <td>100.0</td>\n",
       "      <td>Strong</td>\n",
       "      <td>Kolkata</td>\n",
       "    </tr>\n",
       "  </tbody>\n",
       "</table>\n",
       "<p>80 rows × 5 columns</p>\n",
       "</div>"
      ],
      "text/plain": [
       "    age  gender  fever   cough       city\n",
       "55   81  Female  101.0    Mild     Mumbai\n",
       "88    5  Female  100.0    Mild    Kolkata\n",
       "26   19  Female  100.0    Mild    Kolkata\n",
       "42   27    Male  100.0    Mild      Delhi\n",
       "69   73  Female  103.0    Mild      Delhi\n",
       "..  ...     ...    ...     ...        ...\n",
       "60   24  Female  102.0  Strong  Bangalore\n",
       "71   75  Female  104.0  Strong      Delhi\n",
       "14   51    Male  104.0    Mild  Bangalore\n",
       "92   82  Female  102.0  Strong    Kolkata\n",
       "51   11  Female  100.0  Strong    Kolkata\n",
       "\n",
       "[80 rows x 5 columns]"
      ]
     },
     "execution_count": 45,
     "metadata": {},
     "output_type": "execute_result"
    }
   ],
   "source": [
    "X_train"
   ]
  },
  {
   "cell_type": "code",
   "execution_count": null,
   "id": "a2306db0",
   "metadata": {},
   "outputs": [],
   "source": []
  }
 ],
 "metadata": {
  "kernelspec": {
   "display_name": "Python 3 (ipykernel)",
   "language": "python",
   "name": "python3"
  },
  "language_info": {
   "codemirror_mode": {
    "name": "ipython",
    "version": 3
   },
   "file_extension": ".py",
   "mimetype": "text/x-python",
   "name": "python",
   "nbconvert_exporter": "python",
   "pygments_lexer": "ipython3",
   "version": "3.10.9"
  }
 },
 "nbformat": 4,
 "nbformat_minor": 5
}
