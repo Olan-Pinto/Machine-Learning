{
 "cells": [
  {
   "cell_type": "code",
   "execution_count": 1,
   "id": "456cabf7",
   "metadata": {},
   "outputs": [
    {
     "data": {
      "text/plain": [
       "'C:\\\\Users\\\\Olan'"
      ]
     },
     "execution_count": 1,
     "metadata": {},
     "output_type": "execute_result"
    }
   ],
   "source": [
    "import os\n",
    "os.getcwd()"
   ]
  },
  {
   "cell_type": "code",
   "execution_count": 2,
   "id": "0c8117c0",
   "metadata": {},
   "outputs": [
    {
     "data": {
      "text/plain": [
       "'C:\\\\Olan Backup\\\\ML\\\\Stats'"
      ]
     },
     "execution_count": 2,
     "metadata": {},
     "output_type": "execute_result"
    }
   ],
   "source": [
    "os.chdir('C:\\Olan Backup\\ML\\Stats')\n",
    "os.getcwd()"
   ]
  },
  {
   "cell_type": "code",
   "execution_count": 30,
   "id": "f0501823",
   "metadata": {},
   "outputs": [],
   "source": [
    "import pandas as pd\n",
    "import numpy as np\n",
    "from scipy import stats\n",
    "import matplotlib.pyplot as plt\n",
    "import seaborn as sns"
   ]
  },
  {
   "cell_type": "markdown",
   "id": "9d2daebd",
   "metadata": {},
   "source": [
    "##### Basics"
   ]
  },
  {
   "cell_type": "code",
   "execution_count": 12,
   "id": "e3d1c2b8",
   "metadata": {},
   "outputs": [
    {
     "name": "stdout",
     "output_type": "stream",
     "text": [
      "[0.19471198 0.28769545 0.65727836 0.49170118 0.95309192 0.09831505\n",
      " 0.73457607 0.23523133 0.58358788 0.38234065]\n"
     ]
    },
    {
     "data": {
      "text/plain": [
       "0.4618529860140416"
      ]
     },
     "execution_count": 12,
     "metadata": {},
     "output_type": "execute_result"
    }
   ],
   "source": [
    "data=np.random.rand(10)\n",
    "print(data)\n",
    "mean_of_data=np.mean(data)\n",
    "mean_of_data"
   ]
  },
  {
   "cell_type": "code",
   "execution_count": 26,
   "id": "c2c355d7",
   "metadata": {},
   "outputs": [
    {
     "data": {
      "text/html": [
       "<div>\n",
       "<style scoped>\n",
       "    .dataframe tbody tr th:only-of-type {\n",
       "        vertical-align: middle;\n",
       "    }\n",
       "\n",
       "    .dataframe tbody tr th {\n",
       "        vertical-align: top;\n",
       "    }\n",
       "\n",
       "    .dataframe thead th {\n",
       "        text-align: right;\n",
       "    }\n",
       "</style>\n",
       "<table border=\"1\" class=\"dataframe\">\n",
       "  <thead>\n",
       "    <tr style=\"text-align: right;\">\n",
       "      <th></th>\n",
       "      <th>State</th>\n",
       "      <th>Population</th>\n",
       "      <th>Murder Rate</th>\n",
       "    </tr>\n",
       "  </thead>\n",
       "  <tbody>\n",
       "    <tr>\n",
       "      <th>0</th>\n",
       "      <td>Alabama</td>\n",
       "      <td>4779736</td>\n",
       "      <td>5.7</td>\n",
       "    </tr>\n",
       "    <tr>\n",
       "      <th>1</th>\n",
       "      <td>Alaska</td>\n",
       "      <td>710231</td>\n",
       "      <td>5.6</td>\n",
       "    </tr>\n",
       "    <tr>\n",
       "      <th>2</th>\n",
       "      <td>Arizona</td>\n",
       "      <td>6392017</td>\n",
       "      <td>4.7</td>\n",
       "    </tr>\n",
       "    <tr>\n",
       "      <th>3</th>\n",
       "      <td>Arkansas</td>\n",
       "      <td>2915918</td>\n",
       "      <td>5.6</td>\n",
       "    </tr>\n",
       "    <tr>\n",
       "      <th>4</th>\n",
       "      <td>California</td>\n",
       "      <td>37253956</td>\n",
       "      <td>4.4</td>\n",
       "    </tr>\n",
       "    <tr>\n",
       "      <th>5</th>\n",
       "      <td>Colorado</td>\n",
       "      <td>5029196</td>\n",
       "      <td>2.8</td>\n",
       "    </tr>\n",
       "    <tr>\n",
       "      <th>6</th>\n",
       "      <td>Conneticut</td>\n",
       "      <td>3574097</td>\n",
       "      <td>2.4</td>\n",
       "    </tr>\n",
       "    <tr>\n",
       "      <th>7</th>\n",
       "      <td>Delaware</td>\n",
       "      <td>897934</td>\n",
       "      <td>5.8</td>\n",
       "    </tr>\n",
       "    <tr>\n",
       "      <th>8</th>\n",
       "      <td>Wisconsin</td>\n",
       "      <td>1234567</td>\n",
       "      <td>6.6</td>\n",
       "    </tr>\n",
       "  </tbody>\n",
       "</table>\n",
       "</div>"
      ],
      "text/plain": [
       "        State  Population  Murder Rate\n",
       "0     Alabama     4779736          5.7\n",
       "1      Alaska      710231          5.6\n",
       "2     Arizona     6392017          4.7\n",
       "3    Arkansas     2915918          5.6\n",
       "4  California    37253956          4.4\n",
       "5    Colorado     5029196          2.8\n",
       "6  Conneticut     3574097          2.4\n",
       "7    Delaware      897934          5.8\n",
       "8   Wisconsin     1234567          6.6"
      ]
     },
     "execution_count": 26,
     "metadata": {},
     "output_type": "execute_result"
    }
   ],
   "source": [
    "data={\n",
    "    'State':['Alabama','Alaska','Arizona','Arkansas','California','Colorado','Conneticut','Delaware','Wisconsin'],\n",
    "    'Population':[4779736,710231,6392017,2915918,37253956,5029196,3574097,897934,1234567],\n",
    "    'Murder Rate':[5.7,5.6,4.7,5.6,4.4,2.8,2.4,5.8,6.6]\n",
    "}\n",
    "df=pd.DataFrame(data)\n",
    "df"
   ]
  },
  {
   "cell_type": "code",
   "execution_count": 27,
   "id": "e08ed016",
   "metadata": {},
   "outputs": [
    {
     "name": "stdout",
     "output_type": "stream",
     "text": [
      "Mean of Population column : 6976405.777777778\n",
      "Trimmed mean of Population column : 3546209.285714286\n",
      "Median of Population column : 3574097.0\n"
     ]
    }
   ],
   "source": [
    "print(\"Mean of Population column :\",np.mean(df['Population']))\n",
    "print(\"Trimmed mean of Population column :\",stats.trim_mean(df['Population'],0.2))\n",
    "print(\"Median of Population column :\",np.median(df['Population']))"
   ]
  },
  {
   "cell_type": "code",
   "execution_count": 28,
   "id": "8516a95f",
   "metadata": {},
   "outputs": [
    {
     "name": "stdout",
     "output_type": "stream",
     "text": [
      "Standard Deviation of the Population column : 10867552.549758056\n"
     ]
    }
   ],
   "source": [
    "print(\"Standard Deviation of the Population column :\",np.std(df['Population']))"
   ]
  },
  {
   "cell_type": "code",
   "execution_count": 31,
   "id": "335f2f27",
   "metadata": {},
   "outputs": [
    {
     "data": {
      "text/plain": [
       "3794629.0"
      ]
     },
     "execution_count": 31,
     "metadata": {},
     "output_type": "execute_result"
    }
   ],
   "source": [
    "quartiles=df['Population'].quantile([0.25,0.75])\n",
    "IQR=quartiles[0.75]-quartiles[0.25]\n",
    "IQR"
   ]
  },
  {
   "cell_type": "code",
   "execution_count": 34,
   "id": "ae4a9f95",
   "metadata": {},
   "outputs": [
    {
     "data": {
      "image/png": "[encoded data removed]",
      "text/plain": [
       "<Figure size 600x400 with 1 Axes>"
      ]
     },
     "metadata": {},
     "output_type": "display_data"
    }
   ],
   "source": [
    "plt.figure(figsize=(6,4))\n",
    "sns.boxplot(data['Population'])\n",
    "plt.show()"
   ]
  },
  {
   "cell_type": "code",
   "execution_count": 29,
   "id": "a96a31db",
   "metadata": {},
   "outputs": [
    {
     "data": {
      "text/plain": [
       "(array([1056.,  970., 1017., 1067.,  978.,  982.,  935., 1007.,  988.,\n",
       "        1000.]),\n",
       " array([0. , 0.9, 1.8, 2.7, 3.6, 4.5, 5.4, 6.3, 7.2, 8.1, 9. ]),\n",
       " <BarContainer object of 10 artists>)"
      ]
     },
     "execution_count": 29,
     "metadata": {},
     "output_type": "execute_result"
    },
    {
     "data": {
      "image/png": "[encoded data removed]",
      "text/plain": [
       "<Figure size 640x480 with 1 Axes>"
      ]
     },
     "metadata": {},
     "output_type": "display_data"
    }
   ],
   "source": [
    "# creating a random list of 10000 numbers having a range from 0 - 10\n",
    "\n",
    "rand_df={'hist_col':np.random.randint(10,size=10000)}\n",
    "rand_df=pd.DataFrame(rand_df)\n",
    "plt.hist(rand_df['hist_col'],bins=10,edgecolor='black')"
   ]
  },
  {
   "cell_type": "code",
   "execution_count": 42,
   "id": "b2c79ed8",
   "metadata": {},
   "outputs": [
    {
     "data": {
      "text/plain": [
       "<Axes: xlabel='hist_col', ylabel='Density'>"
      ]
     },
     "execution_count": 42,
     "metadata": {},
     "output_type": "execute_result"
    },
    {
     "data": {
      "image/png": "[encoded data removed]",
      "text/plain": [
       "<Figure size 640x480 with 1 Axes>"
      ]
     },
     "metadata": {},
     "output_type": "display_data"
    }
   ],
   "source": [
    "sns.kdeplot(rand_df['hist_col'],fill=True,color='red')"
   ]
  },
  {
   "cell_type": "code",
   "execution_count": null,
   "id": "c2da9897",
   "metadata": {},
   "outputs": [],
   "source": [
    "# Correlation plot"
   ]
  }
 ],
 "metadata": {
  "kernelspec": {
   "display_name": "Python 3 (ipykernel)",
   "language": "python",
   "name": "python3"
  },
  "language_info": {
   "codemirror_mode": {
    "name": "ipython",
    "version": 3
   },
   "file_extension": ".py",
   "mimetype": "text/x-python",
   "name": "python",
   "nbconvert_exporter": "python",
   "pygments_lexer": "ipython3",
   "version": "3.10.9"
  }
 },
 "nbformat": 4,
 "nbformat_minor": 5
}
